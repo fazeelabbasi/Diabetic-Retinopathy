{
 "cells": [
  {
   "cell_type": "code",
   "execution_count": 1,
   "metadata": {},
   "outputs": [],
   "source": [
    "#importing packages\n",
    "import pandas as pd\n",
    "import csv\n",
    "import numpy as np\n",
    "from PIL import Image\n",
    "import os\n",
    "import random\n",
    "\n",
    "import matplotlib\n",
    "\n",
    "\n"
   ]
  },
  {
   "cell_type": "code",
   "execution_count": 2,
   "metadata": {},
   "outputs": [
    {
     "name": "stdout",
     "output_type": "stream",
     "text": [
      "0       000c1434d8d7\n",
      "1       001639a390f0\n",
      "2       0024cdab0c1e\n",
      "3       002c21358ce6\n",
      "4       005b95c28852\n",
      "5       0083ee8054ee\n",
      "6       0097f532ac9f\n",
      "7       00a8624548a9\n",
      "8       00b74780d31d\n",
      "9       00cb6555d108\n",
      "10      00cc2b75cddd\n",
      "11      00e4ddff966a\n",
      "12      00f6c1be5a33\n",
      "13      0104b032c141\n",
      "14      0124dffecf29\n",
      "15      0125fbd2e791\n",
      "16      012a242ac6ff\n",
      "17      014508ccb9cb\n",
      "18      0151781fe50b\n",
      "19      0161338f53cc\n",
      "20      0180bfa26c0b\n",
      "21      0182152c50de\n",
      "22      01b3aed3ed4c\n",
      "23      01c7808d901d\n",
      "24      01d9477b1171\n",
      "25      01eb826f6467\n",
      "26      01f7bb8be950\n",
      "27      0212dd31f623\n",
      "28      022f820027b8\n",
      "29      0231642cf1c2\n",
      "            ...     \n",
      "3632    fe06dad6851c\n",
      "3633    fe0e2dee1834\n",
      "3634    fe0fc67c7980\n",
      "3635    fe2df69676cf\n",
      "3636    fe37f4492920\n",
      "3637    fe3b0e50be78\n",
      "3638    fe3f62695b2d\n",
      "3639    fe674c2f73f5\n",
      "3640    fea14b3d44b0\n",
      "3641    febfb20dc311\n",
      "3642    fecf4c5ae84b\n",
      "3643    fed5bb685832\n",
      "3644    fefded6bf135\n",
      "3645    ff03f74667df\n",
      "3646    ff0740cb484a\n",
      "3647    ff1e940105f9\n",
      "3648    ff344e5c9341\n",
      "3649    ff4832d55461\n",
      "3650    ff4955e76894\n",
      "3651    ff4cd992667b\n",
      "3652    ff52392372d3\n",
      "3653    ff59d44a70a7\n",
      "3654    ff631653374e\n",
      "3655    ff77e8e5b5f3\n",
      "3656    ff8a0b45c789\n",
      "3657    ffa47f6a7bf4\n",
      "3658    ffc04fed30e6\n",
      "3659    ffcf7b45f213\n",
      "3660    ffd97f8cd5aa\n",
      "3661    ffec9a18a3ce\n",
      "Name: id_code, Length: 3662, dtype: object\n"
     ]
    }
   ],
   "source": [
    "#Loading training csv into pandas\n",
    "path = os.getcwd();\n",
    "labelsPath = path + '/Dataset/aptos2019/trainSec.csv'\n",
    "\n",
    "#loading csv into pandas\n",
    "df_trainSec=pd.read_csv(labelsPath)\n",
    "imageid=df_trainSec['id_code']\n",
    "print(imageid)\n",
    "#making list of labels\n",
    "df_trainSec.sort_values(by=['id_code'])\n",
    "list_of_labels=df_trainSec[\"diagnosis\"].tolist()"
   ]
  },
  {
   "cell_type": "code",
   "execution_count": 3,
   "metadata": {},
   "outputs": [],
   "source": [
    "#loading training images \n",
    "imagesPath=path+'/Dataset/aptos2019/train_images'\n",
    "imageNames=os.listdir(imagesPath)\n",
    "imageNames.sort()\n",
    "\n",
    "\n",
    "\n"
   ]
  },
  {
   "cell_type": "code",
   "execution_count": 4,
   "metadata": {},
   "outputs": [
    {
     "name": "stdout",
     "output_type": "stream",
     "text": [
      "Counter({0: 1805, 2: 999, 1: 370, 4: 295, 3: 193})\n"
     ]
    }
   ],
   "source": [
    "#Extracting image information\n",
    "\n",
    "import collections\n",
    "print(collections.Counter(list_of_labels))\n",
    "\n"
   ]
  },
  {
   "cell_type": "code",
   "execution_count": 8,
   "metadata": {},
   "outputs": [
    {
     "ename": "ValueError",
     "evalue": "unknown file extension: ",
     "output_type": "error",
     "traceback": [
      "\u001b[0;31m---------------------------------------------------------------------------\u001b[0m",
      "\u001b[0;31mKeyError\u001b[0m                                  Traceback (most recent call last)",
      "\u001b[0;32m~/anaconda3/lib/python3.6/site-packages/PIL/Image.py\u001b[0m in \u001b[0;36msave\u001b[0;34m(self, fp, format, **params)\u001b[0m\n\u001b[1;32m   1973\u001b[0m             \u001b[0;32mtry\u001b[0m\u001b[0;34m:\u001b[0m\u001b[0;34m\u001b[0m\u001b[0;34m\u001b[0m\u001b[0m\n\u001b[0;32m-> 1974\u001b[0;31m                 \u001b[0mformat\u001b[0m \u001b[0;34m=\u001b[0m \u001b[0mEXTENSION\u001b[0m\u001b[0;34m[\u001b[0m\u001b[0mext\u001b[0m\u001b[0;34m]\u001b[0m\u001b[0;34m\u001b[0m\u001b[0;34m\u001b[0m\u001b[0m\n\u001b[0m\u001b[1;32m   1975\u001b[0m             \u001b[0;32mexcept\u001b[0m \u001b[0mKeyError\u001b[0m\u001b[0;34m:\u001b[0m\u001b[0;34m\u001b[0m\u001b[0;34m\u001b[0m\u001b[0m\n",
      "\u001b[0;31mKeyError\u001b[0m: ''",
      "\nDuring handling of the above exception, another exception occurred:\n",
      "\u001b[0;31mValueError\u001b[0m                                Traceback (most recent call last)",
      "\u001b[0;32m<ipython-input-8-be216136b00c>\u001b[0m in \u001b[0;36m<module>\u001b[0;34m\u001b[0m\n\u001b[1;32m     12\u001b[0m \u001b[0;34m\u001b[0m\u001b[0m\n\u001b[1;32m     13\u001b[0m         \u001b[0;32mfor\u001b[0m \u001b[0mj\u001b[0m \u001b[0;32min\u001b[0m \u001b[0mrange\u001b[0m\u001b[0;34m(\u001b[0m\u001b[0;36m3\u001b[0m\u001b[0;34m)\u001b[0m\u001b[0;34m:\u001b[0m\u001b[0;34m\u001b[0m\u001b[0;34m\u001b[0m\u001b[0m\n\u001b[0;32m---> 14\u001b[0;31m             \u001b[0mmanipulateImage\u001b[0m\u001b[0;34m(\u001b[0m\u001b[0mimagesPath\u001b[0m\u001b[0;34m+\u001b[0m\u001b[0;34m'/'\u001b[0m\u001b[0;34m+\u001b[0m\u001b[0mimageNames\u001b[0m\u001b[0;34m[\u001b[0m\u001b[0mi\u001b[0m\u001b[0;34m]\u001b[0m\u001b[0;34m,\u001b[0m\u001b[0;34m\"2\"\u001b[0m\u001b[0;34m+\u001b[0m\u001b[0mimageid\u001b[0m\u001b[0;34m[\u001b[0m\u001b[0mi\u001b[0m\u001b[0;34m]\u001b[0m\u001b[0;34m+\u001b[0m\u001b[0mstr\u001b[0m\u001b[0;34m(\u001b[0m\u001b[0mj\u001b[0m\u001b[0;34m)\u001b[0m\u001b[0;34m)\u001b[0m\u001b[0;34m\u001b[0m\u001b[0;34m\u001b[0m\u001b[0m\n\u001b[0m\u001b[1;32m     15\u001b[0m \u001b[0;34m\u001b[0m\u001b[0m\n\u001b[1;32m     16\u001b[0m     \u001b[0;32melif\u001b[0m \u001b[0mlist_of_labels\u001b[0m\u001b[0;34m[\u001b[0m\u001b[0mi\u001b[0m\u001b[0;34m]\u001b[0m \u001b[0;32mis\u001b[0m \u001b[0;36m3\u001b[0m\u001b[0;34m:\u001b[0m\u001b[0;34m\u001b[0m\u001b[0;34m\u001b[0m\u001b[0m\n",
      "\u001b[0;32m<ipython-input-6-edc20fee2a2c>\u001b[0m in \u001b[0;36mmanipulateImage\u001b[0;34m(imgPath, newName)\u001b[0m\n\u001b[1;32m     18\u001b[0m         \u001b[0medited_image\u001b[0m \u001b[0;34m=\u001b[0m \u001b[0mim\u001b[0m\u001b[0;34m.\u001b[0m\u001b[0mtranspose\u001b[0m\u001b[0;34m(\u001b[0m\u001b[0mPIL\u001b[0m\u001b[0;34m.\u001b[0m\u001b[0mImage\u001b[0m\u001b[0;34m.\u001b[0m\u001b[0mFLIP_LEFT_RIGHT\u001b[0m\u001b[0;34m)\u001b[0m\u001b[0;34m\u001b[0m\u001b[0;34m\u001b[0m\u001b[0m\n\u001b[1;32m     19\u001b[0m \u001b[0;34m\u001b[0m\u001b[0m\n\u001b[0;32m---> 20\u001b[0;31m     \u001b[0medited_image\u001b[0m\u001b[0;34m.\u001b[0m\u001b[0msave\u001b[0m\u001b[0;34m(\u001b[0m\u001b[0mnewName\u001b[0m\u001b[0;34m)\u001b[0m\u001b[0;34m\u001b[0m\u001b[0;34m\u001b[0m\u001b[0m\n\u001b[0m\u001b[1;32m     21\u001b[0m \u001b[0;34m\u001b[0m\u001b[0m\n\u001b[1;32m     22\u001b[0m \u001b[0;34m\u001b[0m\u001b[0m\n",
      "\u001b[0;32m~/anaconda3/lib/python3.6/site-packages/PIL/Image.py\u001b[0m in \u001b[0;36msave\u001b[0;34m(self, fp, format, **params)\u001b[0m\n\u001b[1;32m   1974\u001b[0m                 \u001b[0mformat\u001b[0m \u001b[0;34m=\u001b[0m \u001b[0mEXTENSION\u001b[0m\u001b[0;34m[\u001b[0m\u001b[0mext\u001b[0m\u001b[0;34m]\u001b[0m\u001b[0;34m\u001b[0m\u001b[0;34m\u001b[0m\u001b[0m\n\u001b[1;32m   1975\u001b[0m             \u001b[0;32mexcept\u001b[0m \u001b[0mKeyError\u001b[0m\u001b[0;34m:\u001b[0m\u001b[0;34m\u001b[0m\u001b[0;34m\u001b[0m\u001b[0m\n\u001b[0;32m-> 1976\u001b[0;31m                 \u001b[0;32mraise\u001b[0m \u001b[0mValueError\u001b[0m\u001b[0;34m(\u001b[0m\u001b[0;34m'unknown file extension: {}'\u001b[0m\u001b[0;34m.\u001b[0m\u001b[0mformat\u001b[0m\u001b[0;34m(\u001b[0m\u001b[0mext\u001b[0m\u001b[0;34m)\u001b[0m\u001b[0;34m)\u001b[0m\u001b[0;34m\u001b[0m\u001b[0;34m\u001b[0m\u001b[0m\n\u001b[0m\u001b[1;32m   1977\u001b[0m \u001b[0;34m\u001b[0m\u001b[0m\n\u001b[1;32m   1978\u001b[0m         \u001b[0;32mif\u001b[0m \u001b[0mformat\u001b[0m\u001b[0;34m.\u001b[0m\u001b[0mupper\u001b[0m\u001b[0;34m(\u001b[0m\u001b[0;34m)\u001b[0m \u001b[0;32mnot\u001b[0m \u001b[0;32min\u001b[0m \u001b[0mSAVE\u001b[0m\u001b[0;34m:\u001b[0m\u001b[0;34m\u001b[0m\u001b[0;34m\u001b[0m\u001b[0m\n",
      "\u001b[0;31mValueError\u001b[0m: unknown file extension: "
     ]
    }
   ],
   "source": [
    "#Image manipulation\n",
    "\n",
    "#len(list_of_labels)\n",
    "for i in range(len(list_of_labels)):\n",
    "    if list_of_labels[i] is 1:\n",
    "        \n",
    "        im=Image.open(imagesPath+'/'+imageNames[i])\n",
    "#         Arguments: path to image, image name (diag, imageid, uniquenum)\n",
    "        manipulateImage(imagesPath+'/'+imageNames[i],\"1\"+imageid[i]+i)\n",
    "        \n",
    "    elif list_of_labels[i] is 2:\n",
    "        \n",
    "        for j in range(3):\n",
    "            manipulateImage(imagesPath+'/'+imageNames[i],\"2\"+imageid[i]+str(j))\n",
    "        \n",
    "    elif list_of_labels[i] is 3:\n",
    "        \n",
    "        for j in range(8):\n",
    "            manipulateImage(imagesPath+'/'+imageNames[i],\"2\"+imageid[i]+str(j))\n",
    "        \n",
    "    elif list_of_labels[i] is 4:\n",
    "        \n",
    "        for j in range(8):\n",
    "            manipulateImage(imagesPath+'/'+imageNames[i],\"2\"+imageid[i]+str(j))\n",
    "\n",
    "    \n",
    "# zeroDia=df_trainSec="
   ]
  },
  {
   "cell_type": "code",
   "execution_count": 6,
   "metadata": {},
   "outputs": [],
   "source": [
    "def manipulateImage(imgPath,newName):\n",
    "    im=Image.open(imgPath)\n",
    "    #gets random integer in between 1 and 5\n",
    "    num=random.randint(1,5)\n",
    "    #Rotate 90\n",
    "    if(num==1):\n",
    "        edited_image = im.rotate(90)\n",
    "        \n",
    "    #Rotate 180\n",
    "    elif(num==2):\n",
    "        edited_image = im.rotate(180) \n",
    "        \n",
    "    #reflect vertically\n",
    "    elif(num==3):\n",
    "        edited_image = im.transpose(PIL.Image.FLIP_TOP_BOTTOM)\n",
    "        \n",
    "    elif(num==4):\n",
    "        edited_image = im.transpose(PIL.Image.FLIP_LEFT_RIGHT)\n",
    "\n",
    "    edited_image.save(newName)\n",
    "\n",
    "\n",
    "    "
   ]
  },
  {
   "cell_type": "code",
   "execution_count": 43,
   "metadata": {},
   "outputs": [
    {
     "data": {
      "text/plain": [
       "<bound method Image.show of <PIL.PngImagePlugin.PngImageFile image mode=RGB size=3216x2136 at 0x1134E82B0>>"
      ]
     },
     "execution_count": 43,
     "metadata": {},
     "output_type": "execute_result"
    }
   ],
   "source": [
    "\n",
    "\n",
    "im=Image.open(imagesPath+'/'+imageNames[0])\n",
    "width,height=im.size\n",
    "width\n",
    "#height\n",
    "im.show\n"
   ]
  },
  {
   "cell_type": "code",
   "execution_count": null,
   "metadata": {},
   "outputs": [],
   "source": [
    "# labels="
   ]
  }
 ],
 "metadata": {
  "kernelspec": {
   "display_name": "Python 3",
   "language": "python",
   "name": "python3"
  },
  "language_info": {
   "codemirror_mode": {
    "name": "ipython",
    "version": 3
   },
   "file_extension": ".py",
   "mimetype": "text/x-python",
   "name": "python",
   "nbconvert_exporter": "python",
   "pygments_lexer": "ipython3",
   "version": "3.6.8"
  }
 },
 "nbformat": 4,
 "nbformat_minor": 2
}
