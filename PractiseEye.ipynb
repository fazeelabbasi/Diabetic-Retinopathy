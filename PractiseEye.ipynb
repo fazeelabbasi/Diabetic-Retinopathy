{
 "cells": [
  {
   "cell_type": "code",
   "execution_count": 38,
   "metadata": {},
   "outputs": [],
   "source": [
    "#importing packages\n",
    "import pandas as pd\n",
    "import csv\n",
    "import numpy as np\n",
    "import PIL\n",
    "from PIL import Image\n",
    "import os\n",
    "import random\n",
    "\n",
    "import matplotlib\n",
    "\n",
    "\n"
   ]
  },
  {
   "cell_type": "code",
   "execution_count": 39,
   "metadata": {},
   "outputs": [],
   "source": [
    "#Loading training csv into pandas\n",
    "path = os.getcwd();\n",
    "labelsPath = path + '/aptos2019/trainSec.csv'\n",
    "\n",
    "#loading csv into pandas\n",
    "df_trainSec=pd.read_csv(labelsPath)\n",
    "\n",
    "#Sort pandas by idcode, store list of labels\n",
    "df_trainSec.sort_values(by=['id_code'])\n",
    "\n",
    "#\n",
    "list_of_labels=df_trainSec[\"diagnosis\"].tolist()\n",
    "\n",
    "#image id is list of id codes\n",
    "imageid=df_trainSec['id_code']\n",
    "#print(imageid[0])"
   ]
  },
  {
   "cell_type": "code",
   "execution_count": 40,
   "metadata": {},
   "outputs": [],
   "source": [
    "#loading training images \n",
    "imagesPath=path+'/aptos2019/train_images'\n",
    "imageNames=os.listdir(imagesPath)\n",
    "imageNames.sort()\n",
    "#print(imageNames[0])\n"
   ]
  },
  {
   "cell_type": "code",
   "execution_count": 41,
   "metadata": {},
   "outputs": [],
   "source": [
    "from PIL import Image\n",
    "def manipulateImage(imgPath,newName,diag):\n",
    "    \n",
    "    print(newName)\n",
    "    \n",
    "    im=Image.open(imgPath)\n",
    "\n",
    "    \n",
    "    #gets random integer in between 1 and 5\n",
    "    num=random.randint(1,4)\n",
    "    \n",
    "    #Rotate 90\n",
    "    if(num==1):\n",
    "        edited_image = im.rotate(90)\n",
    "        \n",
    "    #Rotate 180\n",
    "    elif(num==2):\n",
    "        edited_image = im.rotate(180) \n",
    "        \n",
    "    #reflect vertically\n",
    "    elif(num==3):\n",
    "        edited_image = im.transpose(PIL.Image.FLIP_TOP_BOTTOM)\n",
    "        \n",
    "    elif(num==4):\n",
    "        edited_image = im.transpose(PIL.Image.FLIP_LEFT_RIGHT)\n",
    "    \n",
    "    # add newly created image to pandas \n",
    "    addToPandas(newName,diag)\n",
    "    print(df_trainSec.head(3))\n",
    "    \n",
    "    edited_image.save(newName)\n",
    "\n",
    "\n",
    "    "
   ]
  },
  {
   "cell_type": "code",
   "execution_count": 42,
   "metadata": {},
   "outputs": [],
   "source": [
    "#Function to add to pandas\n",
    "def addToPandas(newName,diag):\n",
    "    \n",
    "    #creating\n",
    "    df2 = pd.DataFrame({\"id_code\":[newName],\"diagnosis\":[diag]}) \n",
    "    \n",
    "    global df_trainSec\n",
    "    df_trainSec=df_trainSec.append(df2,ignore_index = True) \n"
   ]
  },
  {
   "cell_type": "code",
   "execution_count": 43,
   "metadata": {},
   "outputs": [
    {
     "name": "stdout",
     "output_type": "stream",
     "text": [
      "2000c1434d8d70.png\n",
      "        id_code  diagnosis\n",
      "0  000c1434d8d7          2\n",
      "1  001639a390f0          4\n",
      "2  0024cdab0c1e          1\n",
      "2000c1434d8d71.png\n",
      "        id_code  diagnosis\n",
      "0  000c1434d8d7          2\n",
      "1  001639a390f0          4\n",
      "2  0024cdab0c1e          1\n",
      "2000c1434d8d72.png\n",
      "        id_code  diagnosis\n",
      "0  000c1434d8d7          2\n",
      "1  001639a390f0          4\n",
      "2  0024cdab0c1e          1\n",
      "4001639a390f00.png\n",
      "        id_code  diagnosis\n",
      "0  000c1434d8d7          2\n",
      "1  001639a390f0          4\n",
      "2  0024cdab0c1e          1\n",
      "4001639a390f01.png\n",
      "        id_code  diagnosis\n",
      "0  000c1434d8d7          2\n",
      "1  001639a390f0          4\n",
      "2  0024cdab0c1e          1\n"
     ]
    },
    {
     "ename": "UnboundLocalError",
     "evalue": "local variable 'edited_image' referenced before assignment",
     "output_type": "error",
     "traceback": [
      "\u001b[0;31m---------------------------------------------------------------------------\u001b[0m",
      "\u001b[0;31mUnboundLocalError\u001b[0m                         Traceback (most recent call last)",
      "\u001b[0;32m<ipython-input-43-0fa17ed00017>\u001b[0m in \u001b[0;36m<module>\u001b[0;34m\u001b[0m\n\u001b[1;32m     31\u001b[0m         \u001b[0;32mfor\u001b[0m \u001b[0mj\u001b[0m \u001b[0;32min\u001b[0m \u001b[0mrange\u001b[0m\u001b[0;34m(\u001b[0m\u001b[0;36m8\u001b[0m\u001b[0;34m)\u001b[0m\u001b[0;34m:\u001b[0m\u001b[0;34m\u001b[0m\u001b[0;34m\u001b[0m\u001b[0m\n\u001b[1;32m     32\u001b[0m             \u001b[0mimageName\u001b[0m\u001b[0;34m=\u001b[0m\u001b[0;34m\"4\"\u001b[0m\u001b[0;34m+\u001b[0m\u001b[0mimageid\u001b[0m\u001b[0;34m[\u001b[0m\u001b[0mi\u001b[0m\u001b[0;34m]\u001b[0m\u001b[0;34m+\u001b[0m\u001b[0mstr\u001b[0m\u001b[0;34m(\u001b[0m\u001b[0mj\u001b[0m\u001b[0;34m)\u001b[0m\u001b[0;34m+\u001b[0m\u001b[0;34m\".png\"\u001b[0m\u001b[0;34m\u001b[0m\u001b[0;34m\u001b[0m\u001b[0m\n\u001b[0;32m---> 33\u001b[0;31m             \u001b[0mmanipulateImage\u001b[0m\u001b[0;34m(\u001b[0m\u001b[0mimagesPath\u001b[0m\u001b[0;34m+\u001b[0m\u001b[0;34m'/'\u001b[0m\u001b[0;34m+\u001b[0m\u001b[0mimageNames\u001b[0m\u001b[0;34m[\u001b[0m\u001b[0mi\u001b[0m\u001b[0;34m]\u001b[0m\u001b[0;34m,\u001b[0m\u001b[0mimageName\u001b[0m\u001b[0;34m,\u001b[0m\u001b[0;36m4\u001b[0m\u001b[0;34m)\u001b[0m\u001b[0;34m\u001b[0m\u001b[0;34m\u001b[0m\u001b[0m\n\u001b[0m\u001b[1;32m     34\u001b[0m \u001b[0;34m\u001b[0m\u001b[0m\n",
      "\u001b[0;32m<ipython-input-41-cf091acdca3f>\u001b[0m in \u001b[0;36mmanipulateImage\u001b[0;34m(imgPath, newName, diag)\u001b[0m\n\u001b[1;32m     30\u001b[0m     \u001b[0mprint\u001b[0m\u001b[0;34m(\u001b[0m\u001b[0mdf_trainSec\u001b[0m\u001b[0;34m.\u001b[0m\u001b[0mhead\u001b[0m\u001b[0;34m(\u001b[0m\u001b[0;36m3\u001b[0m\u001b[0;34m)\u001b[0m\u001b[0;34m)\u001b[0m\u001b[0;34m\u001b[0m\u001b[0;34m\u001b[0m\u001b[0m\n\u001b[1;32m     31\u001b[0m \u001b[0;34m\u001b[0m\u001b[0m\n\u001b[0;32m---> 32\u001b[0;31m     \u001b[0medited_image\u001b[0m\u001b[0;34m.\u001b[0m\u001b[0msave\u001b[0m\u001b[0;34m(\u001b[0m\u001b[0mnewName\u001b[0m\u001b[0;34m)\u001b[0m\u001b[0;34m\u001b[0m\u001b[0;34m\u001b[0m\u001b[0m\n\u001b[0m\u001b[1;32m     33\u001b[0m \u001b[0;34m\u001b[0m\u001b[0m\n\u001b[1;32m     34\u001b[0m \u001b[0;34m\u001b[0m\u001b[0m\n",
      "\u001b[0;31mUnboundLocalError\u001b[0m: local variable 'edited_image' referenced before assignment"
     ]
    }
   ],
   "source": [
    "#Image manipulation\n",
    "#This loops through the list of labels, trying to create equivalent number of images for each label (around 2000)\n",
    "#if label is 1, create one copy of image\n",
    "#If label is 2, create 3 more copies of image\n",
    "#if label is 3, create eight more copies of image\n",
    "#If label is 4, create 7 more copies of each image\n",
    "\n",
    "#len(list_of_labels)\n",
    "for i in range(len(list_of_labels)):\n",
    "  \n",
    "    if list_of_labels[i] is 1:\n",
    "        imageName=\"1\"+imageid[i]+str(i)+\".png\"\n",
    "        \n",
    "#       Arguments: path to image, image name (diagnosislabel, imageid, uniquenum)\n",
    "        manipulateImage(imagesPath+'/'+imageNames[i],imageName,1)\n",
    "\n",
    "    elif list_of_labels[i] is 2:\n",
    "        \n",
    "        for j in range(3):\n",
    "            imageName=\"2\"+imageid[i]+str(j)+\".png\"\n",
    "            manipulateImage(imagesPath+'/'+imageNames[i],imageName,2)\n",
    "        \n",
    "    elif list_of_labels[i] is 3:\n",
    "        \n",
    "        for j in range(8):\n",
    "            imageName=\"3\"+imageid[i]+str(j)+\".png\"\n",
    "            manipulateImage(imagesPath+'/'+imageNames[i],imageName,3)\n",
    "        \n",
    "    elif list_of_labels[i] is 4:\n",
    "        \n",
    "        for j in range(8):\n",
    "            imageName=\"4\"+imageid[i]+str(j)+\".png\"\n",
    "            manipulateImage(imagesPath+'/'+imageNames[i],imageName,4)\n",
    "\n"
   ]
  },
  {
   "cell_type": "code",
   "execution_count": null,
   "metadata": {},
   "outputs": [],
   "source": [
    "#Practising image manipulation\n",
    "\n",
    "im=Image.open(imagesPath+'/'+imageNames[0])\n",
    "width,height=im.size\n",
    "width\n",
    "#height\n",
    "im.show\n"
   ]
  },
  {
   "cell_type": "code",
   "execution_count": null,
   "metadata": {},
   "outputs": [],
   "source": []
  }
 ],
 "metadata": {
  "kernelspec": {
   "display_name": "Python 3",
   "language": "python",
   "name": "python3"
  },
  "language_info": {
   "codemirror_mode": {
    "name": "ipython",
    "version": 3
   },
   "file_extension": ".py",
   "mimetype": "text/x-python",
   "name": "python",
   "nbconvert_exporter": "python",
   "pygments_lexer": "ipython3",
   "version": "3.6.8"
  }
 },
 "nbformat": 4,
 "nbformat_minor": 2
}
